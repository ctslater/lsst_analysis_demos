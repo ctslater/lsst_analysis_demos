{
 "cells": [
  {
   "cell_type": "markdown",
   "metadata": {},
   "source": [
    "LSST Catalog Outputs Demo\n",
    "=======\n",
    "\n",
    "General Goals\n",
    "------------\n",
    "\n",
    "- Load the output sources table from process `processCcdDecam.py`\n",
    "- Set up the butler, use it to access output products\n",
    "- Display the output image, and possibly overlay sources?\n",
    "\n",
    "Initial setup for this notebook\n",
    "-----------------------------\n",
    "\n",
    "This loads the shared LSST environment, with a recent-ish tag, and a git repo with `obs_decam`. The call to load anaconda separately is due to some bug in loadLSST.sh where an old anaconda version gets loaded. \n",
    "\n",
    "    source /lsst/stack/loadLSST.sh\n",
    "    setup anaconda -t b1628\n",
    "    setup -r. obs_decam -t b1628\n",
    "    \n",
    "We will also load some packages and specify a base directory that we will load files from:"
   ]
  },
  {
   "cell_type": "code",
   "execution_count": 22,
   "metadata": {
    "collapsed": true
   },
   "outputs": [],
   "source": [
    "import math\n",
    "import lsst.afw.table as afwTable\n",
    "import lsst.daf.persistence as dafPersist\n",
    "\n",
    "repo_dir = \"/raid/ctslater/decam_NEO_repo\""
   ]
  },
  {
   "cell_type": "markdown",
   "metadata": {},
   "source": [
    "Reading Tables\n",
    "-------------\n",
    "First I'll do the basic (perhaps \"naiëve\" or \"unsophisticated\") of reading files, by directly specifying a filename."
   ]
  },
  {
   "cell_type": "code",
   "execution_count": 50,
   "metadata": {
    "collapsed": false
   },
   "outputs": [
    {
     "name": "stdout",
     "output_type": "stream",
     "text": [
      "<lsst.afw.table.tableLib.SourceCatalog; proxy of <Swig Object of type 'lsst::afw::table::SortedCatalogT< lsst::afw::table::SourceRecord > *' at 0x7ff8fed91420> >\n"
     ]
    }
   ],
   "source": [
    "cat = afwTable.SourceCatalog.readFits(repo_dir + \"/0197828/src/src-0197828_09.fits\")\n",
    "print cat"
   ]
  },
  {
   "cell_type": "markdown",
   "metadata": {},
   "source": [
    "**Complaint:** The print function output here is very useless. It would be much more useful to see a snippet of the table contents.\n",
    "\n",
    "But there are ways to see the contents. Most usefully, `cat.schema`"
   ]
  },
  {
   "cell_type": "code",
   "execution_count": 51,
   "metadata": {
    "collapsed": false
   },
   "outputs": [
    {
     "data": {
      "text/plain": [
       "Schema(\n",
       "    (Field['L'](name=\"id\", doc=\"unique ID\"), Key<L>(offset=0, nElements=1)),\n",
       "    (Field['Angle'](name=\"coord_ra\", doc=\"position in ra/dec\"), Key<Angle>(offset=8, nElements=1)),\n",
       "    (Field['Angle'](name=\"coord_dec\", doc=\"position in ra/dec\"), Key<Angle>(offset=16, nElements=1)),\n",
       "    (Field['L'](name=\"parent\", doc=\"unique ID of parent source\"), Key<L>(offset=24, nElements=1)),\n",
       "    (Field['Flag'](name=\"calib_detected\", doc=\"Source was detected as an icSrc\"), Key['Flag'](offset=32, bit=0)),\n",
       "    (Field['Flag'](name=\"calib_psfCandidate\", doc=\"Flag set if the source was a candidate for PSF determination, as determined by the\"), Key['Flag'](offset=32, bit=1)),\n",
       "    (Field['Flag'](name=\"calib_psfUsed\", doc=\"Flag set if the source was actually used for PSF determination, as determined by the\"), Key['Flag'](offset=32, bit=2)),\n",
       "    (Field['Flag'](name=\"flags_negative\", doc=\"set if source was detected as significantly negative\"), Key['Flag'](offset=32, bit=3)),\n",
       "    (Field['D'](name=\"base_GaussianCentroid_x\", doc=\"centroid from Gaussian Centroid algorithm\", units=\"pixels\"), Key<D>(offset=40, nElements=1)),\n",
       "    (Field['D'](name=\"base_GaussianCentroid_y\", doc=\"centroid from Gaussian Centroid algorithm\", units=\"pixels\"), Key<D>(offset=48, nElements=1)),\n",
       "    (Field['F'](name=\"base_GaussianCentroid_xSigma\", doc=\"1-sigma uncertainty on x position\", units=\"pixels\"), Key<F>(offset=56, nElements=1)),\n",
       "    (Field['F'](name=\"base_GaussianCentroid_ySigma\", doc=\"1-sigma uncertainty on y position\", units=\"pixels\"), Key<F>(offset=60, nElements=1)),\n",
       "    (Field['Flag'](name=\"base_GaussianCentroid_flag\", doc=\"general failure flag, set if anything went wrong\"), Key['Flag'](offset=32, bit=4)),\n",
       "    (Field['Flag'](name=\"base_GaussianCentroid_flag_noPeak\", doc=\"Fitted Centroid has a negative peak\"), Key['Flag'](offset=32, bit=5)),\n",
       "    (Field['D'](name=\"base_NaiveCentroid_x\", doc=\"centroid from Naive Centroid algorithm\", units=\"pixels\"), Key<D>(offset=64, nElements=1)),\n",
       "    (Field['D'](name=\"base_NaiveCentroid_y\", doc=\"centroid from Naive Centroid algorithm\", units=\"pixels\"), Key<D>(offset=72, nElements=1)),\n",
       "    (Field['F'](name=\"base_NaiveCentroid_xSigma\", doc=\"1-sigma uncertainty on x position\", units=\"pixels\"), Key<F>(offset=80, nElements=1)),\n",
       "    (Field['F'](name=\"base_NaiveCentroid_ySigma\", doc=\"1-sigma uncertainty on y position\", units=\"pixels\"), Key<F>(offset=84, nElements=1)),\n",
       "    (Field['Flag'](name=\"base_NaiveCentroid_flag\", doc=\"general failure flag, set if anything went wrong\"), Key['Flag'](offset=32, bit=6)),\n",
       "    (Field['Flag'](name=\"base_NaiveCentroid_flag_noCounts\", doc=\"Object to be centroided has no counts\"), Key['Flag'](offset=32, bit=7)),\n",
       "    (Field['Flag'](name=\"base_NaiveCentroid_flag_edge\", doc=\"Object too close to edge\"), Key['Flag'](offset=32, bit=8)),\n",
       "    (Field['D'](name=\"base_SdssCentroid_x\", doc=\"centroid from Sdss Centroid algorithm\", units=\"pixels\"), Key<D>(offset=88, nElements=1)),\n",
       "    (Field['D'](name=\"base_SdssCentroid_y\", doc=\"centroid from Sdss Centroid algorithm\", units=\"pixels\"), Key<D>(offset=96, nElements=1)),\n",
       "    (Field['F'](name=\"base_SdssCentroid_xSigma\", doc=\"1-sigma uncertainty on x position\", units=\"pixels\"), Key<F>(offset=104, nElements=1)),\n",
       "    (Field['F'](name=\"base_SdssCentroid_ySigma\", doc=\"1-sigma uncertainty on y position\", units=\"pixels\"), Key<F>(offset=108, nElements=1)),\n",
       "    (Field['Flag'](name=\"base_SdssCentroid_flag\", doc=\"general failure flag, set if anything went wrong\"), Key['Flag'](offset=32, bit=9)),\n",
       "    (Field['Flag'](name=\"base_SdssCentroid_flag_edge\", doc=\"Object too close to edge\"), Key['Flag'](offset=32, bit=10)),\n",
       "    (Field['Flag'](name=\"base_SdssCentroid_flag_badData\", doc=\"Algorithm could not measure this data\"), Key['Flag'](offset=32, bit=11)),\n",
       "    (Field['D'](name=\"base_SdssShape_xx\", doc=\"elliptical Gaussian adaptive moments\", units=\"pixels^2\"), Key<D>(offset=112, nElements=1)),\n",
       "    (Field['D'](name=\"base_SdssShape_yy\", doc=\"elliptical Gaussian adaptive moments\", units=\"pixels^2\"), Key<D>(offset=120, nElements=1)),\n",
       "    (Field['D'](name=\"base_SdssShape_xy\", doc=\"elliptical Gaussian adaptive moments\", units=\"pixels^2\"), Key<D>(offset=128, nElements=1)),\n",
       "    (Field['F'](name=\"base_SdssShape_xxSigma\", doc=\"1-sigma uncertainty on xx moment\", units=\"pixels^2\"), Key<F>(offset=136, nElements=1)),\n",
       "    (Field['F'](name=\"base_SdssShape_yySigma\", doc=\"1-sigma uncertainty on yy moment\", units=\"pixels^2\"), Key<F>(offset=140, nElements=1)),\n",
       "    (Field['F'](name=\"base_SdssShape_xySigma\", doc=\"1-sigma uncertainty on xy moment\", units=\"pixels^2\"), Key<F>(offset=144, nElements=1)),\n",
       "    (Field['D'](name=\"base_SdssShape_x\", doc=\"elliptical Gaussian adaptive moments\", units=\"pixels\"), Key<D>(offset=152, nElements=1)),\n",
       "    (Field['D'](name=\"base_SdssShape_y\", doc=\"elliptical Gaussian adaptive moments\", units=\"pixels\"), Key<D>(offset=160, nElements=1)),\n",
       "    (Field['F'](name=\"base_SdssShape_xSigma\", doc=\"1-sigma uncertainty on x position\", units=\"pixels\"), Key<F>(offset=168, nElements=1)),\n",
       "    (Field['F'](name=\"base_SdssShape_ySigma\", doc=\"1-sigma uncertainty on y position\", units=\"pixels\"), Key<F>(offset=172, nElements=1)),\n",
       "    (Field['D'](name=\"base_SdssShape_flux\", doc=\"elliptical Gaussian adaptive moments\", units=\"dn\"), Key<D>(offset=176, nElements=1)),\n",
       "    (Field['D'](name=\"base_SdssShape_fluxSigma\", doc=\"1-sigma flux uncertainty\", units=\"dn\"), Key<D>(offset=184, nElements=1)),\n",
       "    (Field['D'](name=\"base_SdssShape_xy4\", doc=\"4th moment used in certain shear-estimation algorithms\", units=\"pixels^4\"), Key<D>(offset=192, nElements=1)),\n",
       "    (Field['F'](name=\"base_SdssShape_xy4Sigma\", doc=\"uncertainty on %sbase_SdssShape_xy4\", units=\"pixels^4\"), Key<F>(offset=200, nElements=1)),\n",
       "    (Field['F'](name=\"base_SdssShape_flux_xx_Cov\", doc=\"uncertainty covariance between base_SdssShape_flux and base_SdssShape_xx\", units=\"dn*pixels^2\"), Key<F>(offset=204, nElements=1)),\n",
       "    (Field['F'](name=\"base_SdssShape_flux_yy_Cov\", doc=\"uncertainty covariance between base_SdssShape_flux and base_SdssShape_yy\", units=\"dn*pixels^2\"), Key<F>(offset=208, nElements=1)),\n",
       "    (Field['F'](name=\"base_SdssShape_flux_xy_Cov\", doc=\"uncertainty covariance between base_SdssShape_flux and base_SdssShape_xy\", units=\"dn*pixels^2\"), Key<F>(offset=212, nElements=1)),\n",
       "    (Field['Flag'](name=\"base_SdssShape_flag\", doc=\"general failure flag, set if anything went wrong\"), Key['Flag'](offset=32, bit=12)),\n",
       "    (Field['Flag'](name=\"base_SdssShape_flag_unweightedBad\", doc=\"Both weighted and unweighted moments were invalid\"), Key['Flag'](offset=32, bit=13)),\n",
       "    (Field['Flag'](name=\"base_SdssShape_flag_unweighted\", doc=\"Weighted moments converged to an invalid value; using unweighted moments\"), Key['Flag'](offset=32, bit=14)),\n",
       "    (Field['Flag'](name=\"base_SdssShape_flag_shift\", doc=\"centroid shifted by more than the maximum allowed amount\"), Key['Flag'](offset=32, bit=15)),\n",
       "    (Field['Flag'](name=\"base_SdssShape_flag_maxIter\", doc=\"Too many iterations in adaptive moments\"), Key['Flag'](offset=32, bit=16)),\n",
       "    (Field['D'](name=\"base_GaussianFlux_flux\", doc=\"flux from Gaussian Flux algorithm\", units=\"dn\"), Key<D>(offset=216, nElements=1)),\n",
       "    (Field['D'](name=\"base_GaussianFlux_fluxSigma\", doc=\"1-sigma flux uncertainty\", units=\"dn\"), Key<D>(offset=224, nElements=1)),\n",
       "    (Field['Flag'](name=\"base_GaussianFlux_flag\", doc=\"general failure flag, set if anything went wrong\"), Key['Flag'](offset=32, bit=17)),\n",
       "    (Field['D'](name=\"base_NaiveFlux_flux\", doc=\"flux from Naive Flux algorithm\", units=\"dn\"), Key<D>(offset=232, nElements=1)),\n",
       "    (Field['D'](name=\"base_NaiveFlux_fluxSigma\", doc=\"1-sigma flux uncertainty\", units=\"dn\"), Key<D>(offset=240, nElements=1)),\n",
       "    (Field['Flag'](name=\"base_NaiveFlux_flag\", doc=\"general failure flag, set if anything went wrong\"), Key['Flag'](offset=32, bit=18)),\n",
       "    (Field['Flag'](name=\"base_NaiveFlux_flag_edge\", doc=\"source is too close to the edge of the field to compute the given aperture\"), Key['Flag'](offset=32, bit=19)),\n",
       "    (Field['D'](name=\"base_PixelFlags_x\", doc=\"centroid from Naive Centroid algorithm\", units=\"pixels\"), Key<D>(offset=248, nElements=1)),\n",
       "    (Field['D'](name=\"base_PixelFlags_y\", doc=\"centroid from Naive Centroid algorithm\", units=\"pixels\"), Key<D>(offset=256, nElements=1)),\n",
       "    (Field['F'](name=\"base_PixelFlags_xSigma\", doc=\"1-sigma uncertainty on x position\", units=\"pixels\"), Key<F>(offset=264, nElements=1)),\n",
       "    (Field['F'](name=\"base_PixelFlags_ySigma\", doc=\"1-sigma uncertainty on y position\", units=\"pixels\"), Key<F>(offset=268, nElements=1)),\n",
       "    (Field['Flag'](name=\"base_PixelFlags_flag\", doc=\"general failure flag, set if anything went wrong\"), Key['Flag'](offset=32, bit=20)),\n",
       "    (Field['Flag'](name=\"base_PixelFlags_flag_edge\", doc=\"Could not use full PSF model image in fit because of proximity to exposure border\"), Key['Flag'](offset=32, bit=21)),\n",
       "    (Field['Flag'](name=\"base_PixelFlags_flag_interpolated\", doc=\"Interpolated pixel in the source footprint\"), Key['Flag'](offset=32, bit=22)),\n",
       "    (Field['Flag'](name=\"base_PixelFlags_flag_interpolatedCenter\", doc=\"Interpolated pixel in the source center\"), Key['Flag'](offset=32, bit=23)),\n",
       "    (Field['Flag'](name=\"base_PixelFlags_flag_saturated\", doc=\"Saturated pixel in the source footprint\"), Key['Flag'](offset=32, bit=24)),\n",
       "    (Field['Flag'](name=\"base_PixelFlags_flag_saturatedCenter\", doc=\"Saturated pixel in the source center\"), Key['Flag'](offset=32, bit=25)),\n",
       "    (Field['Flag'](name=\"base_PixelFlags_flag_cr\", doc=\"Cosmic ray in the source footprint\"), Key['Flag'](offset=32, bit=26)),\n",
       "    (Field['Flag'](name=\"base_PixelFlags_flag_crCenter\", doc=\"Cosmic ray in the source center\"), Key['Flag'](offset=32, bit=27)),\n",
       "    (Field['Flag'](name=\"base_PixelFlags_flag_bad\", doc=\"Bad pixel in the source footprint\"), Key['Flag'](offset=32, bit=28)),\n",
       "    (Field['D'](name=\"base_PsfFlux_flux\", doc=\"flux derived from linear least-squares fit of PSF model\", units=\"dn\"), Key<D>(offset=272, nElements=1)),\n",
       "    (Field['D'](name=\"base_PsfFlux_fluxSigma\", doc=\"1-sigma flux uncertainty\", units=\"dn\"), Key<D>(offset=280, nElements=1)),\n",
       "    (Field['Flag'](name=\"base_PsfFlux_flag\", doc=\"general failure flag\"), Key['Flag'](offset=32, bit=29)),\n",
       "    (Field['Flag'](name=\"base_PsfFlux_flag_noGoodPixels\", doc=\"not enough non-rejected pixels in data to attempt the fit\"), Key['Flag'](offset=32, bit=30)),\n",
       "    (Field['Flag'](name=\"base_PsfFlux_flag_edge\", doc=\"object was too close to the edge of the image to use the full PSF model\"), Key['Flag'](offset=32, bit=31)),\n",
       "    (Field['D'](name=\"base_SincFlux_flux\", doc=\"flux from Sinc Flux algorithm\", units=\"dn\"), Key<D>(offset=288, nElements=1)),\n",
       "    (Field['D'](name=\"base_SincFlux_fluxSigma\", doc=\"1-sigma flux uncertainty\", units=\"dn\"), Key<D>(offset=296, nElements=1)),\n",
       "    (Field['Flag'](name=\"base_SincFlux_flag\", doc=\"general failure flag, set if anything went wrong\"), Key['Flag'](offset=32, bit=32)),\n",
       "    (Field['D'](name=\"base_ClassificationExtendedness_value\", doc=\"Set to 1 for extended sources, 0 for point sources.\"), Key<D>(offset=304, nElements=1)),\n",
       "    (Field['ArrayI'](name=\"spans\", doc=\"footprint spans (y, x0, x1)\", size=0), Key<ArrayI>(offset=320, nElements=0)),\n",
       "    (Field['ArrayF'](name=\"peaks\", doc=\"footprint peaks (fx, fy, peakValue)\", size=0), Key<ArrayF>(offset=336, nElements=0)),\n",
       "    'base_GaussianCentroid_flag_badInitialCentroid'->'base_SdssCentroid_flag'\n",
       "    'base_GaussianFlux_flag_badCentroid'->'base_SdssCentroid_flag'\n",
       "    'base_GaussianFlux_flag_badShape'->'base_SdssShape_flag'\n",
       "    'base_NaiveCentroid_flag_badInitialCentroid'->'base_SdssCentroid_flag'\n",
       "    'base_NaiveFlux_flag_badCentroid'->'base_SdssCentroid_flag'\n",
       "    'base_PixelFlags_flag_badCentroid'->'base_SdssCentroid_flag'\n",
       "    'base_PsfFlux_flag_badCentroid'->'base_SdssCentroid_flag'\n",
       "    'base_SdssShape_flag_badCentroid'->'base_SdssCentroid_flag'\n",
       "    'base_SincFlux_flag_badCentroid'->'base_SdssCentroid_flag'\n",
       "    'slot_ApFlux'->'base_SincFlux'\n",
       "    'slot_Centroid'->'base_SdssCentroid'\n",
       "    'slot_InstFlux'->'base_GaussianFlux'\n",
       "    'slot_ModelFlux'->'base_GaussianFlux'\n",
       "    'slot_PsfFlux'->'base_PsfFlux'\n",
       "    'slot_Shape'->'base_SdssShape'\n",
       ")"
      ]
     },
     "execution_count": 51,
     "metadata": {},
     "output_type": "execute_result"
    }
   ],
   "source": [
    "cat.schema"
   ]
  },
  {
   "cell_type": "markdown",
   "metadata": {},
   "source": [
    "This may look like a bit of a mess, but that's fine because it's at least telling me what is in the file.\n",
    "\n",
    "We can access individual sources:"
   ]
  },
  {
   "cell_type": "code",
   "execution_count": 52,
   "metadata": {
    "collapsed": false
   },
   "outputs": [
    {
     "name": "stdout",
     "output_type": "stream",
     "text": [
      "<lsst.afw.table.tableLib.SourceRecord; proxy of <Swig Object of type 'boost::shared_ptr< lsst::afw::table::SourceRecord > *' at 0x7ff8fed914b0> >\n"
     ]
    }
   ],
   "source": [
    "s = cat[0]\n",
    "print s"
   ]
  },
  {
   "cell_type": "markdown",
   "metadata": {},
   "source": [
    "**Complaint:** Also not very pretty output from print"
   ]
  },
  {
   "cell_type": "code",
   "execution_count": 25,
   "metadata": {
    "collapsed": false
   },
   "outputs": [
    {
     "name": "stdout",
     "output_type": "stream",
     "text": [
      "ID:  217514186299671035\n",
      "RA:  196.296482023\n",
      "Dec:  -17.8391624357\n",
      "ApFlux:  -13152.8325061\n"
     ]
    }
   ],
   "source": [
    "print \"ID: \", s['id']\n",
    "print \"RA: \", math.degrees(s.get('coord_ra'))\n",
    "print \"Dec: \", math.degrees(s.get('coord_dec'))\n",
    "print \"ApFlux: \", s.getApFlux()\n"
   ]
  },
  {
   "cell_type": "markdown",
   "metadata": {},
   "source": [
    "So there we see three ways, given a single source `s`, we can either get its fields via brackets, via `.get()`, or via any getters that may be defined.\n",
    "\n",
    "These methods will also work on the table itself, giving us the entire column:"
   ]
  },
  {
   "cell_type": "code",
   "execution_count": 53,
   "metadata": {
    "collapsed": false
   },
   "outputs": [
    {
     "data": {
      "text/plain": [
       "array([-13152.83250606,  -5499.91841248,  -5922.28439512, ...,\n",
       "          336.13636792,    496.06406267,  -6457.87151962])"
      ]
     },
     "execution_count": 53,
     "metadata": {},
     "output_type": "execute_result"
    }
   ],
   "source": [
    "cat.getApFlux()"
   ]
  },
  {
   "cell_type": "markdown",
   "metadata": {},
   "source": [
    "Perfect! Data we can use.\n",
    "\n",
    "We can see many of the getters by calling `help()`. However, **Complaint:** `help(cat)` on the whole table does not show the getters that are accessible but only shown in `help(s)` on an individual entry."
   ]
  },
  {
   "cell_type": "code",
   "execution_count": 45,
   "metadata": {
    "collapsed": false
   },
   "outputs": [
    {
     "name": "stdout",
     "output_type": "stream",
     "text": [
      "Help on SourceRecord in module lsst.afw.table.tableLib object:\n",
      "\n",
      "class SourceRecord(SimpleRecord)\n",
      " |  Proxy of C++ lsst::afw::table::SourceRecord class\n",
      " |  \n",
      " |  Method resolution order:\n",
      " |      SourceRecord\n",
      " |      SimpleRecord\n",
      " |      BaseRecord\n",
      " |      __builtin__.object\n",
      " |  \n",
      " |  Methods defined here:\n",
      " |  \n",
      " |  __del__ lambda self\n",
      " |  \n",
      " |  __getattr__ lambda self, name\n",
      " |  \n",
      " |  __init__(self, *args, **kwargs)\n",
      " |  \n",
      " |  __repr__ = _swig_repr(self)\n",
      " |  \n",
      " |  __setattr__ lambda self, name, value\n",
      " |  \n",
      " |  getApFlux(self)\n",
      " |      getApFlux(SourceRecord self) -> lsst::afw::table::FluxSlotDefinition::MeasValue\n",
      " |  \n",
      " |  getApFluxErr(self)\n",
      " |      getApFluxErr(SourceRecord self) -> lsst::afw::table::FluxSlotDefinition::ErrValue\n",
      " |  \n",
      " |  getApFluxFlag(self)\n",
      " |      getApFluxFlag(SourceRecord self) -> bool\n",
      " |  \n",
      " |  getCalibFlux(self)\n",
      " |      getCalibFlux(SourceRecord self) -> lsst::afw::table::FluxSlotDefinition::MeasValue\n",
      " |  \n",
      " |  getCalibFluxErr(self)\n",
      " |      getCalibFluxErr(SourceRecord self) -> lsst::afw::table::FluxSlotDefinition::ErrValue\n",
      " |  \n",
      " |  getCalibFluxFlag(self)\n",
      " |      getCalibFluxFlag(SourceRecord self) -> bool\n",
      " |  \n",
      " |  getCentroid(self)\n",
      " |      getCentroid(SourceRecord self) -> Point2D\n",
      " |  \n",
      " |  getCentroidErr(self)\n",
      " |      getCentroidErr(SourceRecord self) -> lsst::afw::table::CentroidSlotDefinition::ErrValue\n",
      " |  \n",
      " |  getCentroidFlag(self)\n",
      " |      getCentroidFlag(SourceRecord self) -> bool\n",
      " |  \n",
      " |  getFootprint(self)\n",
      " |      getFootprint(SourceRecord self) -> boost::shared_ptr< lsst::afw::table::Footprint >\n",
      " |  \n",
      " |  getInstFlux(self)\n",
      " |      getInstFlux(SourceRecord self) -> lsst::afw::table::FluxSlotDefinition::MeasValue\n",
      " |  \n",
      " |  getInstFluxErr(self)\n",
      " |      getInstFluxErr(SourceRecord self) -> lsst::afw::table::FluxSlotDefinition::ErrValue\n",
      " |  \n",
      " |  getInstFluxFlag(self)\n",
      " |      getInstFluxFlag(SourceRecord self) -> bool\n",
      " |  \n",
      " |  getIxx(self)\n",
      " |      getIxx(SourceRecord self) -> double\n",
      " |  \n",
      " |  getIxy(self)\n",
      " |      getIxy(SourceRecord self) -> double\n",
      " |  \n",
      " |  getIyy(self)\n",
      " |      getIyy(SourceRecord self) -> double\n",
      " |  \n",
      " |  getModelFlux(self)\n",
      " |      getModelFlux(SourceRecord self) -> lsst::afw::table::FluxSlotDefinition::MeasValue\n",
      " |  \n",
      " |  getModelFluxErr(self)\n",
      " |      getModelFluxErr(SourceRecord self) -> lsst::afw::table::FluxSlotDefinition::ErrValue\n",
      " |  \n",
      " |  getModelFluxFlag(self)\n",
      " |      getModelFluxFlag(SourceRecord self) -> bool\n",
      " |  \n",
      " |  getParent(self)\n",
      " |      getParent(SourceRecord self) -> lsst::afw::table::RecordId\n",
      " |  \n",
      " |  getPsfFlux(self)\n",
      " |      getPsfFlux(SourceRecord self) -> lsst::afw::table::FluxSlotDefinition::MeasValue\n",
      " |  \n",
      " |  getPsfFluxErr(self)\n",
      " |      getPsfFluxErr(SourceRecord self) -> lsst::afw::table::FluxSlotDefinition::ErrValue\n",
      " |  \n",
      " |  getPsfFluxFlag(self)\n",
      " |      getPsfFluxFlag(SourceRecord self) -> bool\n",
      " |  \n",
      " |  getShape(self)\n",
      " |      getShape(SourceRecord self) -> Quadrupole\n",
      " |  \n",
      " |  getShapeErr(self)\n",
      " |      getShapeErr(SourceRecord self) -> lsst::afw::table::ShapeSlotDefinition::ErrValue\n",
      " |  \n",
      " |  getShapeFlag(self)\n",
      " |      getShapeFlag(SourceRecord self) -> bool\n",
      " |  \n",
      " |  getTable(self)\n",
      " |      getTable(SourceRecord self) -> boost::shared_ptr< lsst::afw::table::SourceTable const >\n",
      " |  \n",
      " |  getX(self)\n",
      " |      getX(SourceRecord self) -> double\n",
      " |  \n",
      " |  getY(self)\n",
      " |      getY(SourceRecord self) -> double\n",
      " |  \n",
      " |  setFootprint(self, *args)\n",
      " |      setFootprint(SourceRecord self, boost::shared_ptr< lsst::afw::table::Footprint > const & footprint)\n",
      " |  \n",
      " |  setParent(self, *args)\n",
      " |      setParent(SourceRecord self, lsst::afw::table::RecordId id)\n",
      " |  \n",
      " |  updateCoord(self, *args)\n",
      " |      updateCoord(SourceRecord self, lsst::afw::image::Wcs const & wcs)\n",
      " |      updateCoord(SourceRecord self, lsst::afw::image::Wcs const & wcs, Point2DKey key)\n",
      " |  \n",
      " |  ----------------------------------------------------------------------\n",
      " |  Data and other attributes defined here:\n",
      " |  \n",
      " |  Catalog = <class 'lsst.afw.table.tableLib.SourceCatalog'>\n",
      " |      Proxy of C++ lsst::afw::table::SortedCatalogT<(lsst::afw::table::SourceRecord)> class\n",
      " |  \n",
      " |  ColumnView = <class 'lsst.afw.table.tableLib.SourceColumnView'>\n",
      " |      Proxy of C++ lsst::afw::table::SourceColumnViewT<(lsst::afw::table::SourceRecord)> class\n",
      " |  \n",
      " |  Table = <class 'lsst.afw.table.tableLib.SourceTable'>\n",
      " |      Proxy of C++ lsst::afw::table::SourceTable class\n",
      " |  \n",
      " |  __swig_destroy__ = <built-in function delete_SourceRecord>\n",
      " |      delete_SourceRecord(SourceRecord self)\n",
      " |  \n",
      " |  __swig_getmethods__ = {'_cast': <function <lambda>>}\n",
      " |  \n",
      " |  __swig_setmethods__ = {}\n",
      " |  \n",
      " |  ----------------------------------------------------------------------\n",
      " |  Methods inherited from SimpleRecord:\n",
      " |  \n",
      " |  getCoord(self)\n",
      " |      getCoord(SimpleRecord self) -> IcrsCoord\n",
      " |  \n",
      " |  getDec(self)\n",
      " |      getDec(SimpleRecord self) -> Angle\n",
      " |  \n",
      " |  getId(self)\n",
      " |      getId(SimpleRecord self) -> lsst::afw::table::RecordId\n",
      " |  \n",
      " |  getRa(self)\n",
      " |      getRa(SimpleRecord self) -> Angle\n",
      " |  \n",
      " |  setCoord(self, *args)\n",
      " |      setCoord(SimpleRecord self, IcrsCoord coord)\n",
      " |      setCoord(SimpleRecord self, Coord coord)\n",
      " |  \n",
      " |  setDec(self, *args)\n",
      " |      setDec(SimpleRecord self, Angle dec)\n",
      " |  \n",
      " |  setId(self, *args)\n",
      " |      setId(SimpleRecord self, lsst::afw::table::RecordId id)\n",
      " |  \n",
      " |  setRa(self, *args)\n",
      " |      setRa(SimpleRecord self, Angle ra)\n",
      " |  \n",
      " |  ----------------------------------------------------------------------\n",
      " |  Methods inherited from BaseRecord:\n",
      " |  \n",
      " |  __eq__(self, rhs)\n",
      " |  \n",
      " |  __getitem__(self, key)\n",
      " |  \n",
      " |  __ne__(self, rhs)\n",
      " |  \n",
      " |  __setitem__(self, *args)\n",
      " |      __setitem__(BaseRecord self, Key_String key, std::string const & v)\n",
      " |      __setitem__(BaseRecord self, Key_U key, boost::uint16_t value)\n",
      " |      __setitem__(BaseRecord self, Key_I key, boost::int32_t value)\n",
      " |      __setitem__(BaseRecord self, Key_L key, boost::int64_t value)\n",
      " |      __setitem__(BaseRecord self, Key_F key, float value)\n",
      " |      __setitem__(BaseRecord self, Key_D key, double value)\n",
      " |      __setitem__(BaseRecord self, Key_Angle key, Angle value)\n",
      " |      __setitem__(BaseRecord self, Key_ArrayU key, ndarray::Array< boost::uint16_t,1 > const & v)\n",
      " |      __setitem__(BaseRecord self, Key_ArrayI key, ndarray::Array< int,1 > const & v)\n",
      " |      __setitem__(BaseRecord self, Key_ArrayF key, ndarray::Array< float,1 > const & v)\n",
      " |      __setitem__(BaseRecord self, Key_ArrayD key, ndarray::Array< double,1 > const & v)\n",
      " |  \n",
      " |  assign(self, *args)\n",
      " |      assign(BaseRecord self, BaseRecord other)\n",
      " |      assign(BaseRecord self, BaseRecord other, SchemaMapper mapper)\n",
      " |  \n",
      " |  cast(self, type_)\n",
      " |  \n",
      " |  extract = BaseRecord_extract(self, *patterns, **kwds)\n",
      " |      Extract a dictionary of {<name>: <field-value>} in which the field names\n",
      " |      match the given shell-style glob pattern(s).\n",
      " |      \n",
      " |      Any number of glob patterns may be passed; the result will be the union of all\n",
      " |      the result of each glob considered separately.\n",
      " |      \n",
      " |      Additional optional arguments may be passed as keywords:\n",
      " |      \n",
      " |        items ------ The result of a call to self.schema.extract(); this will be used instead\n",
      " |                     of doing any new matching, and allows the pattern matching to be reused\n",
      " |                     to extract values from multiple records.  This keyword is incompatible\n",
      " |                     with any position arguments and the regex, sub, and ordered keyword\n",
      " |                     arguments.\n",
      " |      \n",
      " |        split ------ If True, fields with named subfields (e.g. points) will be split into\n",
      " |                     separate items in the dict; instead of {\"point\": lsst.afw.geom.Point2I(2,3)},\n",
      " |                     for instance, you'd get {\"point.x\": 2, \"point.y\": 3}.\n",
      " |                     Default is False.\n",
      " |      \n",
      " |        regex ------ A regular expression to be used in addition to any glob patterns passed\n",
      " |                     as positional arguments.  Note that this will be compared with re.match,\n",
      " |                     not re.search.\n",
      " |      \n",
      " |        sub -------- A replacement string (see re.MatchObject.expand) used to set the\n",
      " |                     dictionary keys of any fields matched by regex.\n",
      " |      \n",
      " |        ordered----- If True, a collections.OrderedDict will be returned instead of a standard\n",
      " |                     dict, with the order corresponding to the definition order of the Schema.\n",
      " |                     Default is False.\n",
      " |  \n",
      " |  get(self, key)\n",
      " |  \n",
      " |  getAngle(self, *args)\n",
      " |      getAngle(BaseRecord self, Key_Angle key) -> Angle\n",
      " |  \n",
      " |  getArrayD(self, *args)\n",
      " |      getArrayD(BaseRecord self, Key_ArrayD key) -> ndarray::Array< double const,1,1 >\n",
      " |  \n",
      " |  getArrayF(self, *args)\n",
      " |      getArrayF(BaseRecord self, Key_ArrayF key) -> ndarray::Array< float const,1,1 >\n",
      " |  \n",
      " |  getArrayI(self, *args)\n",
      " |      getArrayI(BaseRecord self, Key_ArrayI key) -> ndarray::Array< int const,1,1 >\n",
      " |  \n",
      " |  getArrayU(self, *args)\n",
      " |      getArrayU(BaseRecord self, Key_ArrayU key) -> ndarray::Array< boost::uint16_t const,1,1 >\n",
      " |  \n",
      " |  getD(self, *args)\n",
      " |      getD(BaseRecord self, Key_D key) -> lsst::afw::table::Field< double >::Value\n",
      " |  \n",
      " |  getF(self, *args)\n",
      " |      getF(BaseRecord self, Key_F key) -> lsst::afw::table::Field< float >::Value\n",
      " |  \n",
      " |  getFlag(self, *args)\n",
      " |      getFlag(BaseRecord self, Key_Flag key) -> bool\n",
      " |  \n",
      " |  getI(self, *args)\n",
      " |      getI(BaseRecord self, Key_I key) -> lsst::afw::table::Field< int >::Value\n",
      " |  \n",
      " |  getL(self, *args)\n",
      " |      getL(BaseRecord self, Key_L key) -> lsst::afw::table::Field< long >::Value\n",
      " |  \n",
      " |  getManager(self)\n",
      " |      getManager(BaseRecord self) -> ndarray::Manager::Ptr\n",
      " |  \n",
      " |  getSchema(self)\n",
      " |      getSchema(BaseRecord self) -> Schema\n",
      " |  \n",
      " |  getString(self, *args)\n",
      " |      getString(BaseRecord self, Key_String key) -> std::string\n",
      " |  \n",
      " |  getU(self, *args)\n",
      " |      getU(BaseRecord self, Key_U key) -> lsst::afw::table::Field< unsigned short >::Value\n",
      " |  \n",
      " |  set(self, key, value)\n",
      " |  \n",
      " |  setAngle(self, *args)\n",
      " |      setAngle(BaseRecord self, Key_Angle key, Angle value)\n",
      " |  \n",
      " |  setArrayD(self, *args)\n",
      " |      setArrayD(BaseRecord self, Key_ArrayD key, ndarray::Array< double,1,1 > const & v)\n",
      " |      setArrayD(BaseRecord self, Key_ArrayD key, ndarray::Array< double const,1 > const & v)\n",
      " |  \n",
      " |  setArrayF(self, *args)\n",
      " |      setArrayF(BaseRecord self, Key_ArrayF key, ndarray::Array< float,1,1 > const & v)\n",
      " |      setArrayF(BaseRecord self, Key_ArrayF key, ndarray::Array< float const,1 > const & v)\n",
      " |  \n",
      " |  setArrayI(self, *args)\n",
      " |      setArrayI(BaseRecord self, Key_ArrayI key, ndarray::Array< int,1,1 > const & v)\n",
      " |      setArrayI(BaseRecord self, Key_ArrayI key, ndarray::Array< int const,1 > const & v)\n",
      " |  \n",
      " |  setArrayU(self, *args)\n",
      " |      setArrayU(BaseRecord self, Key_ArrayU key, ndarray::Array< boost::uint16_t,1,1 > const & v)\n",
      " |      setArrayU(BaseRecord self, Key_ArrayU key, ndarray::Array< boost::uint16_t const,1 > const & v)\n",
      " |  \n",
      " |  setD(self, *args)\n",
      " |      setD(BaseRecord self, Key_D key, double const & value)\n",
      " |  \n",
      " |  setF(self, *args)\n",
      " |      setF(BaseRecord self, Key_F key, float const & value)\n",
      " |  \n",
      " |  setFlag(self, *args)\n",
      " |      setFlag(BaseRecord self, Key_Flag key, bool value)\n",
      " |  \n",
      " |  setI(self, *args)\n",
      " |      setI(BaseRecord self, Key_I key, int const & value)\n",
      " |  \n",
      " |  setL(self, *args)\n",
      " |      setL(BaseRecord self, Key_L key, long const & value)\n",
      " |  \n",
      " |  setString(self, *args)\n",
      " |      setString(BaseRecord self, Key_String key, std::string const & v)\n",
      " |  \n",
      " |  setU(self, *args)\n",
      " |      setU(BaseRecord self, Key_U key, unsigned short const & value)\n",
      " |  \n",
      " |  ----------------------------------------------------------------------\n",
      " |  Data descriptors inherited from BaseRecord:\n",
      " |  \n",
      " |  __dict__\n",
      " |      dictionary for instance variables (if defined)\n",
      " |  \n",
      " |  __weakref__\n",
      " |      list of weak references to the object (if defined)\n",
      " |  \n",
      " |  schema\n",
      " |      getSchema(BaseRecord self) -> Schema\n",
      " |  \n",
      " |  table\n",
      "\n"
     ]
    }
   ],
   "source": [
    "help(s)"
   ]
  },
  {
   "cell_type": "markdown",
   "metadata": {},
   "source": [
    "The Butler\n",
    "----------\n",
    "\n",
    "Ok, this previous example was slightly cheating (or at least not being as fancy as we could be) by specifying filenames directly. Let's instead access them through the butler."
   ]
  },
  {
   "cell_type": "code",
   "execution_count": 28,
   "metadata": {
    "collapsed": false
   },
   "outputs": [],
   "source": [
    "b = dafPersist.Butler(repo_dir)"
   ]
  },
  {
   "cell_type": "code",
   "execution_count": 34,
   "metadata": {
    "collapsed": false
   },
   "outputs": [
    {
     "name": "stdout",
     "output_type": "stream",
     "text": [
      "<lsst.daf.persistence.butler.Butler object at 0x7ff902b5b150>\n",
      "Help on method get in module lsst.daf.persistence.butler:\n",
      "\n",
      "get(self, datasetType, dataId={}, immediate=False, **rest) method of lsst.daf.persistence.butler.Butler instance\n",
      "    Retrieves a dataset given an input collection data id.\n",
      "    \n",
      "    @param datasetType (str)   the type of dataset to retrieve.\n",
      "    @param dataId (dict)       the data id.\n",
      "    @param immediate (bool)    don't use a proxy for delayed loading.\n",
      "    @param **rest              keyword arguments for the data id.\n",
      "    @returns an object retrieved from the dataset (or a proxy for one).\n",
      "\n"
     ]
    }
   ],
   "source": [
    "print b\n",
    "help(b.get)"
   ]
  },
  {
   "cell_type": "markdown",
   "metadata": {},
   "source": [
    "datasetType is one of the filenames that exist for each visit, in this case we want \"src\", but it could also be \"instcal\" or \"calexp\" for images. Let's try that"
   ]
  },
  {
   "cell_type": "code",
   "execution_count": 41,
   "metadata": {
    "collapsed": false
   },
   "outputs": [
    {
     "name": "stdout",
     "output_type": "stream",
     "text": [
      "<lsst.afw.table.tableLib.SourceCatalog; proxy of <Swig Object of type 'lsst::afw::table::SortedCatalogT< lsst::afw::table::SourceRecord > *' at 0x7ff8fed91390> >\n"
     ]
    }
   ],
   "source": [
    "cat_butler = b.get(\"src\", visit=197828, ccdnum=9)\n",
    "print cat_butler"
   ]
  },
  {
   "cell_type": "code",
   "execution_count": 42,
   "metadata": {
    "collapsed": false
   },
   "outputs": [
    {
     "data": {
      "text/plain": [
       "array([-13152.83250606,  -5499.91841248,  -5922.28439512, ...,\n",
       "          336.13636792,    496.06406267,  -6457.87151962])"
      ]
     },
     "execution_count": 42,
     "metadata": {},
     "output_type": "execute_result"
    }
   ],
   "source": [
    "cat_butler.getApFlux()"
   ]
  },
  {
   "cell_type": "markdown",
   "metadata": {},
   "source": [
    "Same output as before, just as we hoped for.\n",
    "\n",
    "Now, what if we want to know more about the data available in the repository. For instance, all the visits:"
   ]
  },
  {
   "cell_type": "code",
   "execution_count": 49,
   "metadata": {
    "collapsed": false
   },
   "outputs": [
    {
     "name": "stdout",
     "output_type": "stream",
     "text": [
      "[197383, 197387, 197391, 197395, 197824, 197828, 197832, 197836, 198405, 198409, 198413, 198417, 198762, 198766, 198770, 198774]\n"
     ]
    }
   ],
   "source": [
    "print b.queryMetadata(\"src\", \"visit\")"
   ]
  },
  {
   "cell_type": "markdown",
   "metadata": {},
   "source": [
    "Or the ccds available"
   ]
  },
  {
   "cell_type": "code",
   "execution_count": 48,
   "metadata": {
    "collapsed": false
   },
   "outputs": [
    {
     "name": "stdout",
     "output_type": "stream",
     "text": [
      "[1, 2, 3, 4, 5, 6, 7, 8, 9, 10, 11, 12, 13, 14, 15, 16, 17, 18, 19, 20, 21, 22, 23, 24, 25, 26, 27, 28, 29, 30, 31, 32, 33, 34, 35, 36, 37, 38, 39, 40, 41, 42, 43, 44, 45, 46, 47, 48, 49, 50, 51, 52, 53, 54, 55, 56, 57, 58, 59, 60, 62]\n"
     ]
    }
   ],
   "source": [
    "print b.queryMetadata(\"src\", \"ccdnum\", visit=197383)"
   ]
  },
  {
   "cell_type": "markdown",
   "metadata": {},
   "source": [
    "Not all of these actually exist; while visit 197383 does have instcal, wtmap, and dqmask images, it doesn't actually have \"src\" sources files. So I'm not clear on the exact semantics of what the query is supposed to be returning here.\n",
    "\n",
    "What happens if I ask for something that doesn't exist?"
   ]
  },
  {
   "cell_type": "code",
   "execution_count": 57,
   "metadata": {
    "collapsed": false
   },
   "outputs": [],
   "source": [
    "nonexistant = b.get(\"src\", visit=197383, ccdnum=10)"
   ]
  },
  {
   "cell_type": "markdown",
   "metadata": {},
   "source": [
    "Ok?"
   ]
  },
  {
   "cell_type": "code",
   "execution_count": 60,
   "metadata": {
    "collapsed": false
   },
   "outputs": [
    {
     "ename": "RuntimeError",
     "evalue": "No such FITS catalog file: /raid/ctslater/decam_NEO_repo/0197383/src/src-0197383_10.fits",
     "output_type": "error",
     "traceback": [
      "\u001b[1;31m---------------------------------------------------------------------------\u001b[0m",
      "\u001b[1;31mRuntimeError\u001b[0m                              Traceback (most recent call last)",
      "\u001b[1;32m<ipython-input-60-7fd21211d939>\u001b[0m in \u001b[0;36m<module>\u001b[1;34m()\u001b[0m\n\u001b[1;32m----> 1\u001b[1;33m \u001b[1;32mprint\u001b[0m \u001b[0mnonexistant\u001b[0m\u001b[1;33m\u001b[0m\u001b[0m\n\u001b[0m",
      "\u001b[1;32m/home/lsstsw/stack/Linux64/daf_persistence/10.1-1-g6edbc00+31/python/lsst/daf/persistence/readProxy.pyc\u001b[0m in \u001b[0;36m__str__\u001b[1;34m(self)\u001b[0m\n",
      "\u001b[1;32m/home/lsstsw/stack/Linux64/daf_persistence/10.1-1-g6edbc00+31/python/lsst/daf/persistence/readProxy.pyc\u001b[0m in \u001b[0;36m__getattribute__\u001b[1;34m(self, attr, oga)\u001b[0m\n\u001b[0;32m     39\u001b[0m \u001b[1;33m\u001b[0m\u001b[0m\n\u001b[0;32m     40\u001b[0m     \u001b[1;32mdef\u001b[0m \u001b[0m__getattribute__\u001b[0m\u001b[1;33m(\u001b[0m\u001b[0mself\u001b[0m\u001b[1;33m,\u001b[0m \u001b[0mattr\u001b[0m\u001b[1;33m,\u001b[0m \u001b[0moga\u001b[0m\u001b[1;33m=\u001b[0m\u001b[0mobject\u001b[0m\u001b[1;33m.\u001b[0m\u001b[0m__getattribute__\u001b[0m\u001b[1;33m)\u001b[0m\u001b[1;33m:\u001b[0m\u001b[1;33m\u001b[0m\u001b[0m\n\u001b[1;32m---> 41\u001b[1;33m         \u001b[0msubject\u001b[0m \u001b[1;33m=\u001b[0m \u001b[0moga\u001b[0m\u001b[1;33m(\u001b[0m\u001b[0mself\u001b[0m\u001b[1;33m,\u001b[0m \u001b[1;34m'__subject__'\u001b[0m\u001b[1;33m)\u001b[0m\u001b[1;33m\u001b[0m\u001b[0m\n\u001b[0m\u001b[0;32m     42\u001b[0m         \u001b[1;32mif\u001b[0m \u001b[0mattr\u001b[0m \u001b[1;33m==\u001b[0m \u001b[1;34m'__subject__'\u001b[0m\u001b[1;33m:\u001b[0m\u001b[1;33m\u001b[0m\u001b[0m\n\u001b[0;32m     43\u001b[0m             \u001b[1;32mreturn\u001b[0m \u001b[0msubject\u001b[0m\u001b[1;33m\u001b[0m\u001b[0m\n",
      "\u001b[1;32m/home/lsstsw/stack/Linux64/daf_persistence/10.1-1-g6edbc00+31/python/lsst/daf/persistence/readProxy.pyc\u001b[0m in \u001b[0;36m__subject__\u001b[1;34m(self, get_cache, set_cache)\u001b[0m\n\u001b[0;32m    134\u001b[0m         \u001b[1;32mreturn\u001b[0m \u001b[0mget_cache\u001b[0m\u001b[1;33m(\u001b[0m\u001b[0mself\u001b[0m\u001b[1;33m)\u001b[0m\u001b[1;33m\u001b[0m\u001b[0m\n\u001b[0;32m    135\u001b[0m     \u001b[1;32mexcept\u001b[0m \u001b[0mAttributeError\u001b[0m\u001b[1;33m:\u001b[0m\u001b[1;33m\u001b[0m\u001b[0m\n\u001b[1;32m--> 136\u001b[1;33m         \u001b[0mset_cache\u001b[0m\u001b[1;33m(\u001b[0m\u001b[0mself\u001b[0m\u001b[1;33m,\u001b[0m \u001b[0mget_callback\u001b[0m\u001b[1;33m(\u001b[0m\u001b[0mself\u001b[0m\u001b[1;33m)\u001b[0m\u001b[1;33m(\u001b[0m\u001b[1;33m)\u001b[0m\u001b[1;33m)\u001b[0m\u001b[1;33m\u001b[0m\u001b[0m\n\u001b[0m\u001b[0;32m    137\u001b[0m         \u001b[1;32mreturn\u001b[0m \u001b[0mget_cache\u001b[0m\u001b[1;33m(\u001b[0m\u001b[0mself\u001b[0m\u001b[1;33m)\u001b[0m\u001b[1;33m\u001b[0m\u001b[0m\n\u001b[0;32m    138\u001b[0m \u001b[1;33m\u001b[0m\u001b[0m\n",
      "\u001b[1;32m/home/lsstsw/stack/Linux64/daf_persistence/10.1-1-g6edbc00+31/python/lsst/daf/persistence/butler.pyc\u001b[0m in \u001b[0;36m<lambda>\u001b[1;34m()\u001b[0m\n\u001b[0;32m    236\u001b[0m                     location, dataId)\n\u001b[0;32m    237\u001b[0m         \u001b[1;32melse\u001b[0m\u001b[1;33m:\u001b[0m\u001b[1;33m\u001b[0m\u001b[0m\n\u001b[1;32m--> 238\u001b[1;33m             \u001b[0mcallback\u001b[0m \u001b[1;33m=\u001b[0m \u001b[1;32mlambda\u001b[0m\u001b[1;33m:\u001b[0m \u001b[0mself\u001b[0m\u001b[1;33m.\u001b[0m\u001b[0m_read\u001b[0m\u001b[1;33m(\u001b[0m\u001b[0mpythonType\u001b[0m\u001b[1;33m,\u001b[0m \u001b[0mlocation\u001b[0m\u001b[1;33m)\u001b[0m\u001b[1;33m\u001b[0m\u001b[0m\n\u001b[0m\u001b[0;32m    239\u001b[0m         \u001b[1;32mif\u001b[0m \u001b[0mself\u001b[0m\u001b[1;33m.\u001b[0m\u001b[0mmapper\u001b[0m\u001b[1;33m.\u001b[0m\u001b[0mcanStandardize\u001b[0m\u001b[1;33m(\u001b[0m\u001b[0mdatasetType\u001b[0m\u001b[1;33m)\u001b[0m\u001b[1;33m:\u001b[0m\u001b[1;33m\u001b[0m\u001b[0m\n\u001b[0;32m    240\u001b[0m             \u001b[0minnerCallback\u001b[0m \u001b[1;33m=\u001b[0m \u001b[0mcallback\u001b[0m\u001b[1;33m\u001b[0m\u001b[0m\n",
      "\u001b[1;32m/home/lsstsw/stack/Linux64/daf_persistence/10.1-1-g6edbc00+31/python/lsst/daf/persistence/butler.pyc\u001b[0m in \u001b[0;36m_read\u001b[1;34m(self, pythonType, location)\u001b[0m\n\u001b[0;32m    409\u001b[0m                 \u001b[1;32mif\u001b[0m \u001b[1;32mnot\u001b[0m \u001b[0mos\u001b[0m\u001b[1;33m.\u001b[0m\u001b[0mpath\u001b[0m\u001b[1;33m.\u001b[0m\u001b[0mexists\u001b[0m\u001b[1;33m(\u001b[0m\u001b[0mlogLoc\u001b[0m\u001b[1;33m.\u001b[0m\u001b[0mlocString\u001b[0m\u001b[1;33m(\u001b[0m\u001b[1;33m)\u001b[0m\u001b[1;33m)\u001b[0m\u001b[1;33m:\u001b[0m\u001b[1;33m\u001b[0m\u001b[0m\n\u001b[0;32m    410\u001b[0m                     \u001b[1;32mraise\u001b[0m \u001b[0mRuntimeError\u001b[0m\u001b[1;33m,\u001b[0m\u001b[0;31m \u001b[0m\u001b[0;31m\\\u001b[0m\u001b[1;33m\u001b[0m\u001b[0m\n\u001b[1;32m--> 411\u001b[1;33m                             \u001b[1;34m\"No such FITS catalog file: \"\u001b[0m \u001b[1;33m+\u001b[0m \u001b[0mlogLoc\u001b[0m\u001b[1;33m.\u001b[0m\u001b[0mlocString\u001b[0m\u001b[1;33m(\u001b[0m\u001b[1;33m)\u001b[0m\u001b[1;33m\u001b[0m\u001b[0m\n\u001b[0m\u001b[0;32m    412\u001b[0m                 \u001b[0mhdu\u001b[0m \u001b[1;33m=\u001b[0m \u001b[0madditionalData\u001b[0m\u001b[1;33m.\u001b[0m\u001b[0mgetInt\u001b[0m\u001b[1;33m(\u001b[0m\u001b[1;34m\"hdu\"\u001b[0m\u001b[1;33m,\u001b[0m \u001b[1;36m0\u001b[0m\u001b[1;33m)\u001b[0m\u001b[1;33m\u001b[0m\u001b[0m\n\u001b[0;32m    413\u001b[0m                 \u001b[0mflags\u001b[0m \u001b[1;33m=\u001b[0m \u001b[0madditionalData\u001b[0m\u001b[1;33m.\u001b[0m\u001b[0mgetInt\u001b[0m\u001b[1;33m(\u001b[0m\u001b[1;34m\"flags\"\u001b[0m\u001b[1;33m,\u001b[0m \u001b[1;36m0\u001b[0m\u001b[1;33m)\u001b[0m\u001b[1;33m\u001b[0m\u001b[0m\n",
      "\u001b[1;31mRuntimeError\u001b[0m: No such FITS catalog file: /raid/ctslater/decam_NEO_repo/0197383/src/src-0197383_10.fits"
     ]
    }
   ],
   "source": [
    "print nonexistant            "
   ]
  },
  {
   "cell_type": "markdown",
   "metadata": {},
   "source": [
    "Neat, clearly the butler was doing some sort of delayed loading thing? It's not clear to me if the butler is supposed to fail on `get()` for nonexistent objects or not, but as is, it doesn't mind."
   ]
  },
  {
   "cell_type": "code",
   "execution_count": null,
   "metadata": {
    "collapsed": true
   },
   "outputs": [],
   "source": []
  }
 ],
 "metadata": {
  "kernelspec": {
   "display_name": "Python 2",
   "language": "python",
   "name": "python2"
  },
  "language_info": {
   "codemirror_mode": {
    "name": "ipython",
    "version": 2
   },
   "file_extension": ".py",
   "mimetype": "text/x-python",
   "name": "python",
   "nbconvert_exporter": "python",
   "pygments_lexer": "ipython2",
   "version": "2.7.9"
  }
 },
 "nbformat": 4,
 "nbformat_minor": 0
}
