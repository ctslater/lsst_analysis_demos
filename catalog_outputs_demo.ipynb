{
 "cells": [
  {
   "cell_type": "markdown",
   "metadata": {},
   "source": [
    "LSST Catalog Outputs Demo\n",
    "=======\n",
    "\n",
    "General Goals\n",
    "------------\n",
    "\n",
    "- Load the output sources table from process `processCcdDecam.py`\n",
    "- Set up the butler, use it to access output products\n",
    "- Display the output image, and possibly overlay sources?\n",
    "\n",
    "Initial setup for this notebook\n",
    "-----------------------------\n",
    "\n",
    "This loads the shared LSST environment, with a recent-ish tag, and a git repo with `obs_decam`. The call to load anaconda separately is due to some bug in loadLSST.sh where an old anaconda version gets loaded. \n",
    "\n",
    "    source /lsst/stack/loadLSST.sh\n",
    "    setup anaconda -t b1628\n",
    "    setup -r. obs_decam -t b1628\n",
    "    \n",
    "We will also load some packages and specify a base directory that we will load files from:"
   ]
  },
  {
   "cell_type": "code",
   "execution_count": 1,
   "metadata": {
    "collapsed": false
   },
   "outputs": [],
   "source": [
    "import math\n",
    "import lsst.afw.table as afwTable\n",
    "import lsst.daf.persistence as dafPersist\n",
    "\n",
    "repo_dir = \"/raid/ctslater/decam_NEO_repo\""
   ]
  },
  {
   "cell_type": "markdown",
   "metadata": {},
   "source": [
    "Reading Tables\n",
    "-------------\n",
    "First I'll do the basic (perhaps \"naiëve\" or \"unsophisticated\") of reading files, by directly specifying a filename."
   ]
  },
  {
   "cell_type": "code",
   "execution_count": 2,
   "metadata": {
    "collapsed": false
   },
   "outputs": [
    {
     "name": "stdout",
     "output_type": "stream",
     "text": [
      "<lsst.afw.table.tableLib.SourceCatalog; proxy of <Swig Object of type 'lsst::afw::table::SortedCatalogT< lsst::afw::table::SourceRecord > *' at 0x7f92c1832090> >\n"
     ]
    }
   ],
   "source": [
    "cat = afwTable.SourceCatalog.readFits(repo_dir + \"/0197828/src/src-0197828_09.fits\")\n",
    "print cat"
   ]
  },
  {
   "cell_type": "markdown",
   "metadata": {},
   "source": [
    "**Complaint:** The print function output here is very useless. It would be much more useful to see a snippet of the table contents.\n",
    "\n",
    "But there are ways to see the contents. Most usefully, `cat.schema`"
   ]
  },
  {
   "cell_type": "code",
   "execution_count": null,
   "metadata": {
    "collapsed": false
   },
   "outputs": [],
   "source": [
    "cat.schema"
   ]
  },
  {
   "cell_type": "markdown",
   "metadata": {},
   "source": [
    "The output from that is too long to save in the notebook, so I'll abbreviate it here:\n",
    "\n",
    "    Schema(\n",
    "        (Field['L'](name=\"id\", doc=\"unique ID\"), Key<L>(offset=0, nElements=1)),\n",
    "        (Field['Angle'](name=\"coord_ra\", doc=\"position in ra/dec\"), Key<Angle>(offset=8, nElements=1)),\n",
    "        (Field['Angle'](name=\"coord_dec\", doc=\"position in ra/dec\"), Key<Angle>(offset=16, nElements=1)),\n",
    "        (Field['L'](name=\"parent\", doc=\"unique ID of parent source\"), Key<L>(offset=24, nElements=1)),\n",
    "        (Field['Flag'](name=\"calib_detected\", doc=\"Source was detected as an icSrc\"), Key['Flag'](offset=32, bit=0)),\n",
    "        ...\n",
    "        'slot_ApFlux'->'base_SincFlux'\n",
    "        'slot_Centroid'->'base_SdssCentroid'\n",
    "        'slot_InstFlux'->'base_GaussianFlux'\n",
    "        'slot_ModelFlux'->'base_GaussianFlux'\n",
    "        'slot_PsfFlux'->'base_PsfFlux'\n",
    "        'slot_Shape'->'base_SdssShape'\n",
    "    )"
   ]
  },
  {
   "cell_type": "markdown",
   "metadata": {},
   "source": [
    "This may look like a bit of a mess, but that's fine because it's at least telling me what is in the file.\n",
    "\n",
    "We can access individual sources:"
   ]
  },
  {
   "cell_type": "code",
   "execution_count": 52,
   "metadata": {
    "collapsed": false
   },
   "outputs": [
    {
     "name": "stdout",
     "output_type": "stream",
     "text": [
      "<lsst.afw.table.tableLib.SourceRecord; proxy of <Swig Object of type 'boost::shared_ptr< lsst::afw::table::SourceRecord > *' at 0x7ff8fed914b0> >\n"
     ]
    }
   ],
   "source": [
    "s = cat[0]\n",
    "print s"
   ]
  },
  {
   "cell_type": "markdown",
   "metadata": {},
   "source": [
    "**Complaint:** Also not very pretty output from print"
   ]
  },
  {
   "cell_type": "code",
   "execution_count": 25,
   "metadata": {
    "collapsed": false
   },
   "outputs": [
    {
     "name": "stdout",
     "output_type": "stream",
     "text": [
      "ID:  217514186299671035\n",
      "RA:  196.296482023\n",
      "Dec:  -17.8391624357\n",
      "ApFlux:  -13152.8325061\n"
     ]
    }
   ],
   "source": [
    "print \"ID: \", s['id']\n",
    "print \"RA: \", math.degrees(s.get('coord_ra'))\n",
    "print \"Dec: \", math.degrees(s.get('coord_dec'))\n",
    "print \"ApFlux: \", s.getApFlux()\n"
   ]
  },
  {
   "cell_type": "markdown",
   "metadata": {},
   "source": [
    "So there we see three ways, given a single source `s`, we can either get its fields via brackets, via `.get()`, or via any getters that may be defined.\n",
    "\n",
    "These methods will also work on the table itself, giving us the entire column:"
   ]
  },
  {
   "cell_type": "code",
   "execution_count": 53,
   "metadata": {
    "collapsed": false
   },
   "outputs": [
    {
     "data": {
      "text/plain": [
       "array([-13152.83250606,  -5499.91841248,  -5922.28439512, ...,\n",
       "          336.13636792,    496.06406267,  -6457.87151962])"
      ]
     },
     "execution_count": 53,
     "metadata": {},
     "output_type": "execute_result"
    }
   ],
   "source": [
    "cat.getApFlux()"
   ]
  },
  {
   "cell_type": "markdown",
   "metadata": {},
   "source": [
    "Perfect! Data we can use.\n",
    "\n",
    "We can see many of the getters by calling `help()`. However, **Complaint:** `help(cat)` on the whole table does not show the getters that are accessible but only shown in `help(s)` on an individual entry."
   ]
  },
  {
   "cell_type": "code",
   "execution_count": null,
   "metadata": {
    "collapsed": false
   },
   "outputs": [],
   "source": [
    "help(s)"
   ]
  },
  {
   "cell_type": "markdown",
   "metadata": {},
   "source": [
    "This one also has a very long output, so abbreviating it:\n",
    "\n",
    "    Help on SourceRecord in module lsst.afw.table.tableLib object:\n",
    "\n",
    "    class SourceRecord(SimpleRecord)\n",
    "     |  Proxy of C++ lsst::afw::table::SourceRecord class\n",
    "     |  \n",
    "     |  Method resolution order:\n",
    "     |      SourceRecord\n",
    "     |      SimpleRecord\n",
    "     |      BaseRecord\n",
    "     |      __builtin__.object\n",
    "     |  \n",
    "     |  Methods defined here:\n",
    "     |  \n",
    "     |  __del__ lambda self\n",
    "     |  \n",
    "     |  __getattr__ lambda self, name\n",
    "     |  \n",
    "     |  __init__(self, *args, **kwargs)\n",
    "     |  \n",
    "     |  __repr__ = _swig_repr(self)\n",
    "     |  \n",
    "     |  __setattr__ lambda self, name, value\n",
    "     |  \n",
    "     |  getApFlux(self)\n",
    "     |      getApFlux(SourceRecord self) -> lsst::afw::table::FluxSlotDefinition::MeasValue\n",
    "     |  \n",
    "     |  getApFluxErr(self)\n",
    "     |      getApFluxErr(SourceRecord self) -> lsst::afw::table::FluxSlotDefinition::ErrValue\n",
    "     |  \n",
    "     |  getApFluxFlag(self)\n",
    "     |      getApFluxFlag(SourceRecord self) -> bool\n",
    "     |  \n",
    "     |  getCalibFlux(self)\n",
    "     |      getCalibFlux(SourceRecord self) -> lsst::afw::table::FluxSlotDefinition::MeasValue\n",
    "     |  \n",
    "     |  getCalibFluxErr(self)\n",
    "     |      getCalibFluxErr(SourceRecord self) -> lsst::afw::table::FluxSlotDefinition::ErrValue\n",
    "     \n",
    "Plus many more getters of all sorts."
   ]
  },
  {
   "cell_type": "markdown",
   "metadata": {},
   "source": [
    "The Butler\n",
    "----------\n",
    "\n",
    "Ok, this previous example was slightly cheating (or at least not being as fancy as we could be) by specifying filenames directly. Let's instead access them through the butler."
   ]
  },
  {
   "cell_type": "code",
   "execution_count": 28,
   "metadata": {
    "collapsed": false
   },
   "outputs": [],
   "source": [
    "b = dafPersist.Butler(repo_dir)"
   ]
  },
  {
   "cell_type": "code",
   "execution_count": 34,
   "metadata": {
    "collapsed": false
   },
   "outputs": [
    {
     "name": "stdout",
     "output_type": "stream",
     "text": [
      "<lsst.daf.persistence.butler.Butler object at 0x7ff902b5b150>\n",
      "Help on method get in module lsst.daf.persistence.butler:\n",
      "\n",
      "get(self, datasetType, dataId={}, immediate=False, **rest) method of lsst.daf.persistence.butler.Butler instance\n",
      "    Retrieves a dataset given an input collection data id.\n",
      "    \n",
      "    @param datasetType (str)   the type of dataset to retrieve.\n",
      "    @param dataId (dict)       the data id.\n",
      "    @param immediate (bool)    don't use a proxy for delayed loading.\n",
      "    @param **rest              keyword arguments for the data id.\n",
      "    @returns an object retrieved from the dataset (or a proxy for one).\n",
      "\n"
     ]
    }
   ],
   "source": [
    "print b\n",
    "help(b.get)"
   ]
  },
  {
   "cell_type": "markdown",
   "metadata": {},
   "source": [
    "datasetType is one of the filenames that exist for each visit, in this case we want \"src\", but it could also be \"instcal\" or \"calexp\" for images. Let's try that"
   ]
  },
  {
   "cell_type": "code",
   "execution_count": 41,
   "metadata": {
    "collapsed": false
   },
   "outputs": [
    {
     "name": "stdout",
     "output_type": "stream",
     "text": [
      "<lsst.afw.table.tableLib.SourceCatalog; proxy of <Swig Object of type 'lsst::afw::table::SortedCatalogT< lsst::afw::table::SourceRecord > *' at 0x7ff8fed91390> >\n"
     ]
    }
   ],
   "source": [
    "cat_butler = b.get(\"src\", visit=197828, ccdnum=9)\n",
    "print cat_butler"
   ]
  },
  {
   "cell_type": "code",
   "execution_count": 42,
   "metadata": {
    "collapsed": false
   },
   "outputs": [
    {
     "data": {
      "text/plain": [
       "array([-13152.83250606,  -5499.91841248,  -5922.28439512, ...,\n",
       "          336.13636792,    496.06406267,  -6457.87151962])"
      ]
     },
     "execution_count": 42,
     "metadata": {},
     "output_type": "execute_result"
    }
   ],
   "source": [
    "cat_butler.getApFlux()"
   ]
  },
  {
   "cell_type": "markdown",
   "metadata": {},
   "source": [
    "Same output as before, just as we hoped for.\n",
    "\n",
    "Now, what if we want to know more about the data available in the repository. For instance, all the visits:"
   ]
  },
  {
   "cell_type": "code",
   "execution_count": 49,
   "metadata": {
    "collapsed": false
   },
   "outputs": [
    {
     "name": "stdout",
     "output_type": "stream",
     "text": [
      "[197383, 197387, 197391, 197395, 197824, 197828, 197832, 197836, 198405, 198409, 198413, 198417, 198762, 198766, 198770, 198774]\n"
     ]
    }
   ],
   "source": [
    "print b.queryMetadata(\"src\", \"visit\")"
   ]
  },
  {
   "cell_type": "markdown",
   "metadata": {},
   "source": [
    "Or the ccds available"
   ]
  },
  {
   "cell_type": "code",
   "execution_count": 48,
   "metadata": {
    "collapsed": false
   },
   "outputs": [
    {
     "name": "stdout",
     "output_type": "stream",
     "text": [
      "[1, 2, 3, 4, 5, 6, 7, 8, 9, 10, 11, 12, 13, 14, 15, 16, 17, 18, 19, 20, 21, 22, 23, 24, 25, 26, 27, 28, 29, 30, 31, 32, 33, 34, 35, 36, 37, 38, 39, 40, 41, 42, 43, 44, 45, 46, 47, 48, 49, 50, 51, 52, 53, 54, 55, 56, 57, 58, 59, 60, 62]\n"
     ]
    }
   ],
   "source": [
    "print b.queryMetadata(\"src\", \"ccdnum\", visit=197383)"
   ]
  },
  {
   "cell_type": "markdown",
   "metadata": {},
   "source": [
    "Not all of these actually exist; while visit 197383 does have instcal, wtmap, and dqmask images, it doesn't actually have \"src\" sources files. So I'm not clear on the exact semantics of what the query is supposed to be returning here.\n",
    "\n",
    "What happens if I ask for something that doesn't exist?"
   ]
  },
  {
   "cell_type": "code",
   "execution_count": 57,
   "metadata": {
    "collapsed": false
   },
   "outputs": [],
   "source": [
    "nonexistant = b.get(\"src\", visit=197383, ccdnum=10)"
   ]
  },
  {
   "cell_type": "markdown",
   "metadata": {},
   "source": [
    "Ok?"
   ]
  },
  {
   "cell_type": "code",
   "execution_count": 60,
   "metadata": {
    "collapsed": false
   },
   "outputs": [
    {
     "ename": "RuntimeError",
     "evalue": "No such FITS catalog file: /raid/ctslater/decam_NEO_repo/0197383/src/src-0197383_10.fits",
     "output_type": "error",
     "traceback": [
      "\u001b[1;31m---------------------------------------------------------------------------\u001b[0m",
      "\u001b[1;31mRuntimeError\u001b[0m                              Traceback (most recent call last)",
      "\u001b[1;32m<ipython-input-60-7fd21211d939>\u001b[0m in \u001b[0;36m<module>\u001b[1;34m()\u001b[0m\n\u001b[1;32m----> 1\u001b[1;33m \u001b[1;32mprint\u001b[0m \u001b[0mnonexistant\u001b[0m\u001b[1;33m\u001b[0m\u001b[0m\n\u001b[0m",
      "\u001b[1;32m/home/lsstsw/stack/Linux64/daf_persistence/10.1-1-g6edbc00+31/python/lsst/daf/persistence/readProxy.pyc\u001b[0m in \u001b[0;36m__str__\u001b[1;34m(self)\u001b[0m\n",
      "\u001b[1;32m/home/lsstsw/stack/Linux64/daf_persistence/10.1-1-g6edbc00+31/python/lsst/daf/persistence/readProxy.pyc\u001b[0m in \u001b[0;36m__getattribute__\u001b[1;34m(self, attr, oga)\u001b[0m\n\u001b[0;32m     39\u001b[0m \u001b[1;33m\u001b[0m\u001b[0m\n\u001b[0;32m     40\u001b[0m     \u001b[1;32mdef\u001b[0m \u001b[0m__getattribute__\u001b[0m\u001b[1;33m(\u001b[0m\u001b[0mself\u001b[0m\u001b[1;33m,\u001b[0m \u001b[0mattr\u001b[0m\u001b[1;33m,\u001b[0m \u001b[0moga\u001b[0m\u001b[1;33m=\u001b[0m\u001b[0mobject\u001b[0m\u001b[1;33m.\u001b[0m\u001b[0m__getattribute__\u001b[0m\u001b[1;33m)\u001b[0m\u001b[1;33m:\u001b[0m\u001b[1;33m\u001b[0m\u001b[0m\n\u001b[1;32m---> 41\u001b[1;33m         \u001b[0msubject\u001b[0m \u001b[1;33m=\u001b[0m \u001b[0moga\u001b[0m\u001b[1;33m(\u001b[0m\u001b[0mself\u001b[0m\u001b[1;33m,\u001b[0m \u001b[1;34m'__subject__'\u001b[0m\u001b[1;33m)\u001b[0m\u001b[1;33m\u001b[0m\u001b[0m\n\u001b[0m\u001b[0;32m     42\u001b[0m         \u001b[1;32mif\u001b[0m \u001b[0mattr\u001b[0m \u001b[1;33m==\u001b[0m \u001b[1;34m'__subject__'\u001b[0m\u001b[1;33m:\u001b[0m\u001b[1;33m\u001b[0m\u001b[0m\n\u001b[0;32m     43\u001b[0m             \u001b[1;32mreturn\u001b[0m \u001b[0msubject\u001b[0m\u001b[1;33m\u001b[0m\u001b[0m\n",
      "\u001b[1;32m/home/lsstsw/stack/Linux64/daf_persistence/10.1-1-g6edbc00+31/python/lsst/daf/persistence/readProxy.pyc\u001b[0m in \u001b[0;36m__subject__\u001b[1;34m(self, get_cache, set_cache)\u001b[0m\n\u001b[0;32m    134\u001b[0m         \u001b[1;32mreturn\u001b[0m \u001b[0mget_cache\u001b[0m\u001b[1;33m(\u001b[0m\u001b[0mself\u001b[0m\u001b[1;33m)\u001b[0m\u001b[1;33m\u001b[0m\u001b[0m\n\u001b[0;32m    135\u001b[0m     \u001b[1;32mexcept\u001b[0m \u001b[0mAttributeError\u001b[0m\u001b[1;33m:\u001b[0m\u001b[1;33m\u001b[0m\u001b[0m\n\u001b[1;32m--> 136\u001b[1;33m         \u001b[0mset_cache\u001b[0m\u001b[1;33m(\u001b[0m\u001b[0mself\u001b[0m\u001b[1;33m,\u001b[0m \u001b[0mget_callback\u001b[0m\u001b[1;33m(\u001b[0m\u001b[0mself\u001b[0m\u001b[1;33m)\u001b[0m\u001b[1;33m(\u001b[0m\u001b[1;33m)\u001b[0m\u001b[1;33m)\u001b[0m\u001b[1;33m\u001b[0m\u001b[0m\n\u001b[0m\u001b[0;32m    137\u001b[0m         \u001b[1;32mreturn\u001b[0m \u001b[0mget_cache\u001b[0m\u001b[1;33m(\u001b[0m\u001b[0mself\u001b[0m\u001b[1;33m)\u001b[0m\u001b[1;33m\u001b[0m\u001b[0m\n\u001b[0;32m    138\u001b[0m \u001b[1;33m\u001b[0m\u001b[0m\n",
      "\u001b[1;32m/home/lsstsw/stack/Linux64/daf_persistence/10.1-1-g6edbc00+31/python/lsst/daf/persistence/butler.pyc\u001b[0m in \u001b[0;36m<lambda>\u001b[1;34m()\u001b[0m\n\u001b[0;32m    236\u001b[0m                     location, dataId)\n\u001b[0;32m    237\u001b[0m         \u001b[1;32melse\u001b[0m\u001b[1;33m:\u001b[0m\u001b[1;33m\u001b[0m\u001b[0m\n\u001b[1;32m--> 238\u001b[1;33m             \u001b[0mcallback\u001b[0m \u001b[1;33m=\u001b[0m \u001b[1;32mlambda\u001b[0m\u001b[1;33m:\u001b[0m \u001b[0mself\u001b[0m\u001b[1;33m.\u001b[0m\u001b[0m_read\u001b[0m\u001b[1;33m(\u001b[0m\u001b[0mpythonType\u001b[0m\u001b[1;33m,\u001b[0m \u001b[0mlocation\u001b[0m\u001b[1;33m)\u001b[0m\u001b[1;33m\u001b[0m\u001b[0m\n\u001b[0m\u001b[0;32m    239\u001b[0m         \u001b[1;32mif\u001b[0m \u001b[0mself\u001b[0m\u001b[1;33m.\u001b[0m\u001b[0mmapper\u001b[0m\u001b[1;33m.\u001b[0m\u001b[0mcanStandardize\u001b[0m\u001b[1;33m(\u001b[0m\u001b[0mdatasetType\u001b[0m\u001b[1;33m)\u001b[0m\u001b[1;33m:\u001b[0m\u001b[1;33m\u001b[0m\u001b[0m\n\u001b[0;32m    240\u001b[0m             \u001b[0minnerCallback\u001b[0m \u001b[1;33m=\u001b[0m \u001b[0mcallback\u001b[0m\u001b[1;33m\u001b[0m\u001b[0m\n",
      "\u001b[1;32m/home/lsstsw/stack/Linux64/daf_persistence/10.1-1-g6edbc00+31/python/lsst/daf/persistence/butler.pyc\u001b[0m in \u001b[0;36m_read\u001b[1;34m(self, pythonType, location)\u001b[0m\n\u001b[0;32m    409\u001b[0m                 \u001b[1;32mif\u001b[0m \u001b[1;32mnot\u001b[0m \u001b[0mos\u001b[0m\u001b[1;33m.\u001b[0m\u001b[0mpath\u001b[0m\u001b[1;33m.\u001b[0m\u001b[0mexists\u001b[0m\u001b[1;33m(\u001b[0m\u001b[0mlogLoc\u001b[0m\u001b[1;33m.\u001b[0m\u001b[0mlocString\u001b[0m\u001b[1;33m(\u001b[0m\u001b[1;33m)\u001b[0m\u001b[1;33m)\u001b[0m\u001b[1;33m:\u001b[0m\u001b[1;33m\u001b[0m\u001b[0m\n\u001b[0;32m    410\u001b[0m                     \u001b[1;32mraise\u001b[0m \u001b[0mRuntimeError\u001b[0m\u001b[1;33m,\u001b[0m\u001b[0;31m \u001b[0m\u001b[0;31m\\\u001b[0m\u001b[1;33m\u001b[0m\u001b[0m\n\u001b[1;32m--> 411\u001b[1;33m                             \u001b[1;34m\"No such FITS catalog file: \"\u001b[0m \u001b[1;33m+\u001b[0m \u001b[0mlogLoc\u001b[0m\u001b[1;33m.\u001b[0m\u001b[0mlocString\u001b[0m\u001b[1;33m(\u001b[0m\u001b[1;33m)\u001b[0m\u001b[1;33m\u001b[0m\u001b[0m\n\u001b[0m\u001b[0;32m    412\u001b[0m                 \u001b[0mhdu\u001b[0m \u001b[1;33m=\u001b[0m \u001b[0madditionalData\u001b[0m\u001b[1;33m.\u001b[0m\u001b[0mgetInt\u001b[0m\u001b[1;33m(\u001b[0m\u001b[1;34m\"hdu\"\u001b[0m\u001b[1;33m,\u001b[0m \u001b[1;36m0\u001b[0m\u001b[1;33m)\u001b[0m\u001b[1;33m\u001b[0m\u001b[0m\n\u001b[0;32m    413\u001b[0m                 \u001b[0mflags\u001b[0m \u001b[1;33m=\u001b[0m \u001b[0madditionalData\u001b[0m\u001b[1;33m.\u001b[0m\u001b[0mgetInt\u001b[0m\u001b[1;33m(\u001b[0m\u001b[1;34m\"flags\"\u001b[0m\u001b[1;33m,\u001b[0m \u001b[1;36m0\u001b[0m\u001b[1;33m)\u001b[0m\u001b[1;33m\u001b[0m\u001b[0m\n",
      "\u001b[1;31mRuntimeError\u001b[0m: No such FITS catalog file: /raid/ctslater/decam_NEO_repo/0197383/src/src-0197383_10.fits"
     ]
    }
   ],
   "source": [
    "print nonexistant            "
   ]
  },
  {
   "cell_type": "markdown",
   "metadata": {},
   "source": [
    "Neat, clearly the butler was doing some sort of delayed loading thing? It's not clear to me if the butler is supposed to fail on `get()` for nonexistent objects or not, but as is, it doesn't mind."
   ]
  },
  {
   "cell_type": "code",
   "execution_count": null,
   "metadata": {
    "collapsed": true
   },
   "outputs": [],
   "source": []
  }
 ],
 "metadata": {
  "kernelspec": {
   "display_name": "Python 2",
   "language": "python",
   "name": "python2"
  },
  "language_info": {
   "codemirror_mode": {
    "name": "ipython",
    "version": 2
   },
   "file_extension": ".py",
   "mimetype": "text/x-python",
   "name": "python",
   "nbconvert_exporter": "python",
   "pygments_lexer": "ipython2",
   "version": "2.7.9"
  }
 },
 "nbformat": 4,
 "nbformat_minor": 0
}
